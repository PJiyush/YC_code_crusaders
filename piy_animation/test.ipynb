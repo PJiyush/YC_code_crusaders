{
 "cells": [
  {
   "cell_type": "code",
   "execution_count": 25,
   "metadata": {},
   "outputs": [],
   "source": [
    "alpha = (1,0)\n",
    "beta = (0,1)"
   ]
  },
  {
   "cell_type": "code",
   "execution_count": 26,
   "metadata": {},
   "outputs": [],
   "source": [
    "A = []\n",
    "n_alpha = 3\n",
    "n_beta = 4\n",
    "for i in range(n_alpha):\n",
    "    A.append(alpha)\n",
    "for i in range(n_beta):\n",
    "    A.append(beta)"
   ]
  },
  {
   "cell_type": "code",
   "execution_count": 27,
   "metadata": {},
   "outputs": [
    {
     "name": "stdout",
     "output_type": "stream",
     "text": [
      "[(1, 0), (1, 0), (1, 0), (0, 1), (0, 1), (0, 1), (0, 1)]\n"
     ]
    }
   ],
   "source": [
    "print(A)"
   ]
  },
  {
   "cell_type": "code",
   "execution_count": 31,
   "metadata": {},
   "outputs": [
    {
     "name": "stdout",
     "output_type": "stream",
     "text": [
      "(1, 0)\n",
      "[(1, 0), (0, 1), (0, 1)]\n",
      "3\n"
     ]
    }
   ],
   "source": [
    "import random\n",
    "x = random.choice(A)\n",
    "A.remove(x)\n",
    "print(x)\n",
    "print(A)\n",
    "print(len(A))"
   ]
  },
  {
   "cell_type": "code",
   "execution_count": 1,
   "metadata": {},
   "outputs": [],
   "source": [
    "from libs import *"
   ]
  },
  {
   "cell_type": "code",
   "execution_count": 6,
   "metadata": {},
   "outputs": [],
   "source": [
    "hello = Intersection()\n",
    "hello.getlightstate()\n",
    "hello.green('up')\n",
    "hello.getlightstate()\n",
    "hello.green('down')\n",
    "x = hello.getlightstate()"
   ]
  },
  {
   "cell_type": "code",
   "execution_count": null,
   "metadata": {},
   "outputs": [],
   "source": [
    "# first create an object and then use.green and .red to make the lights red or green and than getlightstate to get values of that"
   ]
  },
  {
   "cell_type": "code",
   "execution_count": 8,
   "metadata": {},
   "outputs": [
    {
     "name": "stdout",
     "output_type": "stream",
     "text": [
      "{'up': 1, 'down': 1, 'left': 0, 'right': 0}\n"
     ]
    },
    {
     "ename": "NameError",
     "evalue": "name 'hey' is not defined",
     "output_type": "error",
     "traceback": [
      "\u001b[1;31m---------------------------------------------------------------------------\u001b[0m",
      "\u001b[1;31mNameError\u001b[0m                                 Traceback (most recent call last)",
      "\u001b[1;32mc:\\Users\\Piyush\\OneDrive\\Desktop\\New folder (4)\\YC_code_crusaders\\piy_animation\\test.ipynb Cell 8\u001b[0m in \u001b[0;36m<cell line: 2>\u001b[1;34m()\u001b[0m\n\u001b[0;32m      <a href='vscode-notebook-cell:/c%3A/Users/Piyush/OneDrive/Desktop/New%20folder%20%284%29/YC_code_crusaders/piy_animation/test.ipynb#X10sZmlsZQ%3D%3D?line=0'>1</a>\u001b[0m \u001b[39mprint\u001b[39m(x)\n\u001b[0;32m      <a href='vscode-notebook-cell:/c%3A/Users/Piyush/OneDrive/Desktop/New%20folder%20%284%29/YC_code_crusaders/piy_animation/test.ipynb#X10sZmlsZQ%3D%3D?line=1'>2</a>\u001b[0m \u001b[39mif\u001b[39;00m(x[\u001b[39m'\u001b[39m\u001b[39mup\u001b[39m\u001b[39m'\u001b[39m]\u001b[39m==\u001b[39m\u001b[39m1\u001b[39m):\n\u001b[1;32m----> <a href='vscode-notebook-cell:/c%3A/Users/Piyush/OneDrive/Desktop/New%20folder%20%284%29/YC_code_crusaders/piy_animation/test.ipynb#X10sZmlsZQ%3D%3D?line=3'>4</a>\u001b[0m     \u001b[39mprint\u001b[39m(hey)\n\u001b[0;32m      <a href='vscode-notebook-cell:/c%3A/Users/Piyush/OneDrive/Desktop/New%20folder%20%284%29/YC_code_crusaders/piy_animation/test.ipynb#X10sZmlsZQ%3D%3D?line=4'>5</a>\u001b[0m \u001b[39mif\u001b[39;00m(x[\u001b[39m'\u001b[39m\u001b[39mdown\u001b[39m\u001b[39m'\u001b[39m]\u001b[39m==\u001b[39m\u001b[39m1\u001b[39m):\n\u001b[0;32m      <a href='vscode-notebook-cell:/c%3A/Users/Piyush/OneDrive/Desktop/New%20folder%20%284%29/YC_code_crusaders/piy_animation/test.ipynb#X10sZmlsZQ%3D%3D?line=5'>6</a>\u001b[0m     \u001b[39mprint\u001b[39m(\u001b[39m'\u001b[39m\u001b[39mhello\u001b[39m\u001b[39m'\u001b[39m)\n",
      "\u001b[1;31mNameError\u001b[0m: name 'hey' is not defined"
     ]
    }
   ],
   "source": [
    "print(x)\n",
    "if(x['up']==1):\n",
    "\n",
    "    print('hey')\n",
    "if(x['down']==1):\n",
    "    print('hello')"
   ]
  }
 ],
 "metadata": {
  "kernelspec": {
   "display_name": "Python 3.10.6 64-bit",
   "language": "python",
   "name": "python3"
  },
  "language_info": {
   "codemirror_mode": {
    "name": "ipython",
    "version": 3
   },
   "file_extension": ".py",
   "mimetype": "text/x-python",
   "name": "python",
   "nbconvert_exporter": "python",
   "pygments_lexer": "ipython3",
   "version": "3.10.6"
  },
  "orig_nbformat": 4,
  "vscode": {
   "interpreter": {
    "hash": "6c57308eae052cf4f5c0b1770d8c1e5b64de3166946ebb090f8374f96284e3f2"
   }
  }
 },
 "nbformat": 4,
 "nbformat_minor": 2
}
