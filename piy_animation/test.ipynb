{
 "cells": [
  {
   "cell_type": "code",
   "execution_count": 25,
   "metadata": {},
   "outputs": [],
   "source": [
    "alpha = (1,0)\n",
    "beta = (0,1)"
   ]
  },
  {
   "cell_type": "code",
   "execution_count": 26,
   "metadata": {},
   "outputs": [],
   "source": [
    "A = []\n",
    "n_alpha = 3\n",
    "n_beta = 4\n",
    "for i in range(n_alpha):\n",
    "    A.append(alpha)\n",
    "for i in range(n_beta):\n",
    "    A.append(beta)"
   ]
  },
  {
   "cell_type": "code",
   "execution_count": 27,
   "metadata": {},
   "outputs": [
    {
     "name": "stdout",
     "output_type": "stream",
     "text": [
      "[(1, 0), (1, 0), (1, 0), (0, 1), (0, 1), (0, 1), (0, 1)]\n"
     ]
    }
   ],
   "source": [
    "print(A)"
   ]
  },
  {
   "cell_type": "code",
   "execution_count": 31,
   "metadata": {},
   "outputs": [
    {
     "name": "stdout",
     "output_type": "stream",
     "text": [
      "(1, 0)\n",
      "[(1, 0), (0, 1), (0, 1)]\n",
      "3\n"
     ]
    }
   ],
   "source": [
    "import random\n",
    "x = random.choice(A)\n",
    "A.remove(x)\n",
    "print(x)\n",
    "print(A)\n",
    "print(len(A))"
   ]
  }
 ],
 "metadata": {
  "kernelspec": {
   "display_name": "Python 3.10.6 64-bit",
   "language": "python",
   "name": "python3"
  },
  "language_info": {
   "codemirror_mode": {
    "name": "ipython",
    "version": 3
   },
   "file_extension": ".py",
   "mimetype": "text/x-python",
   "name": "python",
   "nbconvert_exporter": "python",
   "pygments_lexer": "ipython3",
   "version": "3.10.6"
  },
  "orig_nbformat": 4,
  "vscode": {
   "interpreter": {
    "hash": "6c57308eae052cf4f5c0b1770d8c1e5b64de3166946ebb090f8374f96284e3f2"
   }
  }
 },
 "nbformat": 4,
 "nbformat_minor": 2
}
